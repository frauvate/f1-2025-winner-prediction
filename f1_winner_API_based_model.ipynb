{
  "nbformat": 4,
  "nbformat_minor": 0,
  "metadata": {
    "colab": {
      "provenance": []
    },
    "kernelspec": {
      "name": "python3",
      "display_name": "Python 3"
    },
    "language_info": {
      "name": "python"
    }
  },
  "cells": [
    {
      "cell_type": "markdown",
      "source": [
        "# F1  Winner **Prediction** - Using Ergast API"
      ],
      "metadata": {
        "id": "p6Z5fhCqtmli"
      }
    },
    {
      "cell_type": "markdown",
      "source": [
        "**Author**: Esma Yildirim\n",
        "\n",
        "**Date**: 05.04.2025\n",
        "\n",
        "**Description**: Predicts F1 Grand Prix winners using real-time stats (Ergast API)\n",
        "\n",
        "**Links**:  \n",
        "- [GitHub Repo](https://github.com/frauvate/f1-2025-winner-prediction/) | [Ergast API](https://ergast.com/mrd/)"
      ],
      "metadata": {
        "id": "1UNV-APhtvOq"
      }
    },
    {
      "cell_type": "markdown",
      "source": [
        "Importing Libraries"
      ],
      "metadata": {
        "id": "v0lZ2oXjkdNu"
      }
    },
    {
      "cell_type": "code",
      "execution_count": 32,
      "metadata": {
        "id": "SPyI90gupwV5"
      },
      "outputs": [],
      "source": [
        "import requests\n",
        "import pandas as pd\n",
        "from sklearn.model_selection import train_test_split\n",
        "from sklearn.ensemble import RandomForestClassifier\n",
        "from sklearn.metrics import classification_report"
      ]
    },
    {
      "cell_type": "markdown",
      "source": [
        "# Creating Data Frame"
      ],
      "metadata": {
        "id": "jOINukpCkz9d"
      }
    },
    {
      "cell_type": "markdown",
      "source": [
        "Trace Results Through API"
      ],
      "metadata": {
        "id": "yEc36oyJvx_G"
      }
    },
    {
      "cell_type": "code",
      "source": [
        "def get_race_results(season):\n",
        "    url = f\"http://ergast.com/api/f1/{season}/results.json?limit=1000\"\n",
        "    response = requests.get(url)\n",
        "    data = response.json()\n",
        "\n",
        "    races = data['MRData']['RaceTable']['Races']\n",
        "    results = []\n",
        "    for race in races:\n",
        "        round_num = race['round']\n",
        "        race_name = race['raceName']\n",
        "        for result in race['Results']:\n",
        "            results.append({\n",
        "                \"season\": season,\n",
        "                \"round\": int(round_num),\n",
        "                \"raceName\": race_name,\n",
        "                \"driver\": result['Driver']['driverId'],\n",
        "                \"constructor\": result['Constructor']['constructorId'],\n",
        "                \"grid\": int(result['grid']),\n",
        "                \"position\": int(result['position']),\n",
        "                \"status\": result['status']\n",
        "            })\n",
        "    return results"
      ],
      "metadata": {
        "id": "ZxfoExznr2H3"
      },
      "execution_count": 2,
      "outputs": []
    },
    {
      "cell_type": "markdown",
      "source": [
        "Create Data Frame Using the Results of Last 4 Years"
      ],
      "metadata": {
        "id": "XTUjZWMhv3qD"
      }
    },
    {
      "cell_type": "code",
      "source": [
        "# Get all results between 2021-2024\n",
        "all_results = []\n",
        "for year in range(2021, 2025):\n",
        "    all_results.extend(get_race_results(year))\n",
        "\n",
        "df_results = pd.DataFrame(all_results)\n",
        "print(df_results.head())"
      ],
      "metadata": {
        "colab": {
          "base_uri": "https://localhost:8080/"
        },
        "id": "RgZcPp00r67_",
        "outputId": "cc427f04-db57-45ff-8530-fb5fed0b51c7"
      },
      "execution_count": 48,
      "outputs": [
        {
          "output_type": "stream",
          "name": "stdout",
          "text": [
            "   season  round            raceName          driver constructor  grid  \\\n",
            "0    2021      1  Bahrain Grand Prix        hamilton    mercedes     2   \n",
            "1    2021      1  Bahrain Grand Prix  max_verstappen    red_bull     1   \n",
            "2    2021      1  Bahrain Grand Prix          bottas    mercedes     3   \n",
            "3    2021      1  Bahrain Grand Prix          norris     mclaren     7   \n",
            "4    2021      1  Bahrain Grand Prix           perez    red_bull     0   \n",
            "\n",
            "   position    status  \n",
            "0         1  Finished  \n",
            "1         2  Finished  \n",
            "2         3  Finished  \n",
            "3         4  Finished  \n",
            "4         5  Finished  \n"
          ]
        }
      ]
    },
    {
      "cell_type": "markdown",
      "source": [
        "Tag the Winner"
      ],
      "metadata": {
        "id": "nhJ1H7mak43L"
      }
    },
    {
      "cell_type": "code",
      "source": [
        "df_results[\"is_winner\"] = df_results[\"position\"] == 1"
      ],
      "metadata": {
        "id": "SDPHUPWfk7hR"
      },
      "execution_count": null,
      "outputs": []
    },
    {
      "cell_type": "code",
      "source": [
        "df_features = df_results.copy() # Make sure all race-driver combinations are unique"
      ],
      "metadata": {
        "id": "HBFLb2NylIgX"
      },
      "execution_count": null,
      "outputs": []
    },
    {
      "cell_type": "markdown",
      "source": [
        "Calculating Past Wins"
      ],
      "metadata": {
        "id": "bq9cNG3Sk_Ej"
      }
    },
    {
      "cell_type": "code",
      "source": [
        "df_features[\"past_wins\"] = 0\n",
        "\n",
        "for season in df_features[\"season\"].unique():\n",
        "    for driver in df_features[df_features[\"season\"] == season][\"driver\"].unique():\n",
        "        driver_races = df_features[(df_features[\"season\"] == season) & (df_features[\"driver\"] == driver)]\n",
        "        wins = 0\n",
        "        for idx in driver_races.index:\n",
        "            df_features.loc[idx, \"past_wins\"] = wins\n",
        "            if df_features.loc[idx, \"is_winner\"]:\n",
        "                wins += 1"
      ],
      "metadata": {
        "id": "sZSaFzTBlX0W"
      },
      "execution_count": null,
      "outputs": []
    },
    {
      "cell_type": "markdown",
      "source": [
        "Select Relevant Columns"
      ],
      "metadata": {
        "id": "4XPqUjSVlbcc"
      }
    },
    {
      "cell_type": "code",
      "source": [
        "df_ml = df_features[[\"season\", \"round\", \"driver\", \"constructor\", \"grid\", \"past_wins\", \"is_winner\"]]"
      ],
      "metadata": {
        "id": "UB-EMtKzleH-"
      },
      "execution_count": null,
      "outputs": []
    },
    {
      "cell_type": "markdown",
      "source": [
        "One-hot Encoding"
      ],
      "metadata": {
        "id": "p5xmgWnBlhwd"
      }
    },
    {
      "cell_type": "code",
      "source": [
        "df_ml_encoded = pd.get_dummies(df_ml, columns=[\"constructor\", \"driver\"])"
      ],
      "metadata": {
        "id": "tSmhU3Cnlleh"
      },
      "execution_count": null,
      "outputs": []
    },
    {
      "cell_type": "markdown",
      "source": [
        "Seperate Tags and Features"
      ],
      "metadata": {
        "id": "Gmh45VTPlokI"
      }
    },
    {
      "cell_type": "code",
      "source": [
        "X = df_ml_encoded.drop(columns=[\"is_winner\"])\n",
        "y = df_ml_encoded[\"is_winner\"]"
      ],
      "metadata": {
        "id": "__yll6r0ls4O"
      },
      "execution_count": null,
      "outputs": []
    },
    {
      "cell_type": "markdown",
      "source": [
        "# Model Training"
      ],
      "metadata": {
        "id": "Kh7c-xLFlu9X"
      }
    },
    {
      "cell_type": "markdown",
      "source": [
        "Split into Train and Test Sets"
      ],
      "metadata": {
        "id": "Tod7jEULl0Za"
      }
    },
    {
      "cell_type": "code",
      "source": [
        "X_train, X_test, y_train, y_test = train_test_split(X, y, test_size=0.2, random_state=42)"
      ],
      "metadata": {
        "id": "oGFPRm4Kl55d"
      },
      "execution_count": null,
      "outputs": []
    },
    {
      "cell_type": "markdown",
      "source": [
        "Train the Random Forest Classifier"
      ],
      "metadata": {
        "id": "vFF5c2LCl8cQ"
      }
    },
    {
      "cell_type": "code",
      "source": [
        "model = RandomForestClassifier(n_estimators=100, random_state=42)\n",
        "model.fit(X_train, y_train)"
      ],
      "metadata": {
        "id": "jG7IfEYBmBEH"
      },
      "execution_count": null,
      "outputs": []
    },
    {
      "cell_type": "markdown",
      "source": [
        "Predict and Evaluate"
      ],
      "metadata": {
        "id": "TAc4nLTKmNm8"
      }
    },
    {
      "cell_type": "code",
      "source": [
        "y_pred = model.predict(X_test)\n",
        "print(classification_report(y_test, y_pred))"
      ],
      "metadata": {
        "id": "4IZ5kKoamXNL"
      },
      "execution_count": null,
      "outputs": []
    },
    {
      "cell_type": "markdown",
      "source": [
        "# Simulate and Predict"
      ],
      "metadata": {
        "id": "pf0BQRDNmoql"
      }
    },
    {
      "cell_type": "markdown",
      "source": [
        "Simulate 2025 Race Data"
      ],
      "metadata": {
        "id": "O4MyL5jLmvCt"
      }
    },
    {
      "cell_type": "code",
      "source": [
        "prediction_df = df_results[df_results[\"season\"] == 2024].copy()\n",
        "prediction_df[\"season\"] = 2025"
      ],
      "metadata": {
        "id": "ifwk1Z4Zm1DH"
      },
      "execution_count": null,
      "outputs": []
    },
    {
      "cell_type": "markdown",
      "source": [
        "One-Hot Encoding and Calculating Past Wins"
      ],
      "metadata": {
        "id": "gvlaNamCm3dy"
      }
    },
    {
      "cell_type": "code",
      "source": [
        "# This mirrors the steps performed for the training data\n",
        "prediction_df[\"is_winner\"] = prediction_df[\"position\"] == 1\n",
        "prediction_df[\"past_wins\"] = 0\n",
        "# Calculate past_wins for 2025 using 2024 data, assuming same driver performance\n",
        "for driver in prediction_df[\"driver\"].unique():\n",
        "    driver_races = prediction_df[prediction_df[\"driver\"] == driver]\n",
        "    wins = 0\n",
        "    for idx in driver_races.index:\n",
        "        prediction_df.loc[idx, \"past_wins\"] = wins\n",
        "        if prediction_df.loc[idx, \"is_winner\"]:\n",
        "            wins += 1\n",
        "\n",
        "prediction_df_ml = prediction_df[[\"season\", \"round\", \"driver\", \"constructor\", \"grid\", \"past_wins\", \"is_winner\"]]\n",
        "prediction_X = pd.get_dummies(prediction_df_ml, columns=[\"constructor\", \"driver\"])"
      ],
      "metadata": {
        "id": "0SG9ix4ZnB4K"
      },
      "execution_count": null,
      "outputs": []
    },
    {
      "cell_type": "markdown",
      "source": [
        "Handle Missing Values"
      ],
      "metadata": {
        "id": "uy8g8kYdnK4H"
      }
    },
    {
      "cell_type": "code",
      "source": [
        "# Align the columns in prediction_X with those in X used for training\n",
        "# This ensures that prediction_X contains the same columns (and order) as X\n",
        "# Get missing columns from X that are not in prediction_X\n",
        "missing_cols = set(X.columns) - set(prediction_X.columns)\n",
        "# Add missing columns to prediction_X with 0 values\n",
        "for col in missing_cols:\n",
        "    prediction_X[col] = 0\n",
        "# Reorder columns in prediction_X to match the order in X\n",
        "prediction_X = prediction_X[X.columns]"
      ],
      "metadata": {
        "id": "FTMtU6W5nPY6"
      },
      "execution_count": null,
      "outputs": []
    },
    {
      "cell_type": "markdown",
      "source": [
        "Predict"
      ],
      "metadata": {
        "id": "L8iU9nV-nTym"
      }
    },
    {
      "cell_type": "code",
      "source": [
        "prediction_df[\"win_probability\"] = model.predict_proba(prediction_X)[:, 1]"
      ],
      "metadata": {
        "id": "vgyhzFiTnU60"
      },
      "execution_count": null,
      "outputs": []
    },
    {
      "cell_type": "markdown",
      "source": [
        "Calculate Average Win Probability"
      ],
      "metadata": {
        "id": "81UQMMxdnx-Y"
      }
    },
    {
      "cell_type": "code",
      "source": [
        "avg_probs = prediction_df.groupby(\"driver\")[\"win_probability\"].mean().sort_values(ascending=False)"
      ],
      "metadata": {
        "id": "S4KEnzuAn3BA"
      },
      "execution_count": null,
      "outputs": []
    },
    {
      "cell_type": "markdown",
      "source": [
        "Driver With the Highest Probability"
      ],
      "metadata": {
        "id": "HSImNgRKoC3H"
      }
    },
    {
      "cell_type": "code",
      "source": [
        "top_driver_id = avg_probs.idxmax()\n",
        "top_probability = avg_probs.max()"
      ],
      "metadata": {
        "id": "3g43fMPwoLNK"
      },
      "execution_count": null,
      "outputs": []
    },
    {
      "cell_type": "markdown",
      "source": [
        "Get Top 5 Drivers"
      ],
      "metadata": {
        "id": "-Rb9S-8qoO7-"
      }
    },
    {
      "cell_type": "code",
      "source": [
        "top_5_drivers = avg_probs.head(5).reset_index()\n",
        "top_5_drivers.columns = [\"Driver ID\", \"Win Probability\"]\n",
        "\n",
        "top_5_drivers[\"Driver\"] = top_5_drivers[\"Driver ID\"].str.replace('_', ' ').str.title()\n",
        "\n",
        "# Format as a markdown table\n",
        "from IPython.display import Markdown, display\n",
        "display(Markdown(\"### 🏆 Top 5 Predicted 2025 Winners\"))\n",
        "display(Markdown(top_5_drivers[[\"Driver\", \"Win Probability\"]].to_markdown(index=False, floatfmt=\".1%\")))"
      ],
      "metadata": {
        "id": "l44EcvmnoTBY"
      },
      "execution_count": null,
      "outputs": []
    },
    {
      "cell_type": "markdown",
      "source": [
        "Final Winner Prediction"
      ],
      "metadata": {
        "id": "TKnXxPBzodV_"
      }
    },
    {
      "cell_type": "code",
      "source": [
        "driver_name = df_results[df_results[\"driver\"] == top_driver_id][\"driver\"].iloc[0].replace('_', ' ').title()\n",
        "\n",
        "print(f\"\\n🏆 2025 Winner Prediction: {driver_name}\")\n",
        "print(f\"🔮 Average Probability of Winning: {top_probability:.2%}\")"
      ],
      "metadata": {
        "colab": {
          "base_uri": "https://localhost:8080/"
        },
        "id": "9dQG26y0TqGt",
        "outputId": "0b260b64-d1ab-4ec0-c4d2-b882cb61345b"
      },
      "execution_count": 47,
      "outputs": [
        {
          "output_type": "stream",
          "name": "stdout",
          "text": [
            "\n",
            "🏆 2025 Winner Prediction: Max Verstappen\n",
            "🔮 Average Probability of Winning: 78.60%\n"
          ]
        }
      ]
    }
  ]
}